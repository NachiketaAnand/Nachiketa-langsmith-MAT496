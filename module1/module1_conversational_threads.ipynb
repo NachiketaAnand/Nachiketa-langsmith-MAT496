{
  "cells": [
    {
      "cell_type": "markdown",
      "metadata": {
        "id": "FufmIgnST3vd"
      },
      "source": [
        "# Conversational Threads"
      ]
    },
    {
      "cell_type": "markdown",
      "metadata": {
        "id": "NK60LdvyT3ve"
      },
      "source": [
        "Many LLM applications have a chatbot-like interface in which the user and the LLM application engage in a multi-turn conversation. In order to track these conversations, you can use the Threads feature in LangSmith.\n",
        "\n",
        "This is relevant to our RAG application, which should maintain context from prior conversations with users."
      ]
    },
    {
      "cell_type": "markdown",
      "metadata": {
        "id": "hxVs-WAiT3vf"
      },
      "source": [
        "### Setup"
      ]
    },
    {
      "cell_type": "code",
      "execution_count": null,
      "metadata": {
        "id": "IdgqanLAT3vg"
      },
      "outputs": [],
      "source": [
        "# Or you can use a .env file\n",
        "from dotenv import load_dotenv\n",
        "load_dotenv(dotenv_path=\"../../.env\", override=True)"
      ]
    },
    {
      "cell_type": "code",
      "source": [
        "%%writefile utils.py\n",
        "import os\n",
        "import tempfile\n",
        "from langchain.text_splitter import RecursiveCharacterTextSplitter\n",
        "from langchain_community.document_loaders.sitemap import SitemapLoader\n",
        "from langchain_community.vectorstores import SKLearnVectorStore\n",
        "from langchain_openai import OpenAIEmbeddings\n",
        "\n",
        "RAG_PROMPT = \"\"\"You are an assistant for question-answering tasks.\n",
        "Use the following pieces of retrieved context to answer the latest question in the conversation.\n",
        "If you don't know the answer, just say that you don't know.\n",
        "The pre-existing conversation may provide important context to the question.\n",
        "Use three sentences maximum and keep the answer concise.\n",
        "\n",
        "Conversation: {conversation}\n",
        "Context: {context}\n",
        "Question: {question}\n",
        "Answer:\"\"\"\n",
        "\n",
        "def get_vector_db_retriever():\n",
        "    persist_path = os.path.join(tempfile.gettempdir(), \"union.parquet\")\n",
        "    embd = OpenAIEmbeddings()\n",
        "\n",
        "    # If vector store exists, then load it\n",
        "    if os.path.exists(persist_path):\n",
        "        vectorstore = SKLearnVectorStore(\n",
        "            embedding=embd,\n",
        "            persist_path=persist_path,\n",
        "            serializer=\"parquet\"\n",
        "        )\n",
        "        return vectorstore.as_retriever(lambda_mult=0)\n",
        "\n",
        "    # Otherwise, index LangSmith documents and create new vector store\n",
        "    ls_docs_sitemap_loader = SitemapLoader(web_path=\"https://docs.smith.langchain.com/sitemap.xml\", continue_on_failure=True)\n",
        "    ls_docs = ls_docs_sitemap_loader.load()\n",
        "\n",
        "    text_splitter = RecursiveCharacterTextSplitter.from_tiktoken_encoder(\n",
        "        chunk_size=500, chunk_overlap=0\n",
        "    )\n",
        "    doc_splits = text_splitter.split_documents(ls_docs)\n",
        "\n",
        "    vectorstore = SKLearnVectorStore.from_documents(\n",
        "        documents=doc_splits,\n",
        "        embedding=embd,\n",
        "        persist_path=persist_path,\n",
        "        serializer=\"parquet\"\n",
        "    )\n",
        "    vectorstore.persist()\n",
        "    return vectorstore.as_retriever(lambda_mult=0)\n"
      ],
      "metadata": {
        "colab": {
          "base_uri": "https://localhost:8080/"
        },
        "id": "5ZYFy38TaOo5",
        "outputId": "3e7a4b82-9e5e-4e6f-9c72-271c03e15996"
      },
      "execution_count": 2,
      "outputs": [
        {
          "output_type": "stream",
          "name": "stdout",
          "text": [
            "Writing utils.py\n"
          ]
        }
      ]
    },
    {
      "cell_type": "markdown",
      "source": [],
      "metadata": {
        "id": "XKgdJV06UFcI"
      }
    },
    {
      "cell_type": "markdown",
      "metadata": {
        "id": "dzZZETDIT3vg"
      },
      "source": [
        "### Group traces into threads\n"
      ]
    },
    {
      "cell_type": "markdown",
      "metadata": {
        "id": "gDlII9wDT3vg"
      },
      "source": [
        "A Thread is a sequence of traces representing a single conversation. Each response is represented as its own trace, but these traces are linked together by being part of the same thread.\n",
        "\n",
        "To associate traces together, you need to pass in a special metadata key where the value is the unique identifier for that thread.\n",
        "\n",
        "The key value is the unique identifier for that conversation. The key name should be one of:\n",
        "\n",
        "- session_id\n",
        "- thread_id\n",
        "- conversation_id.\n",
        "\n",
        "The value should be a UUID."
      ]
    },
    {
      "cell_type": "code",
      "execution_count": 3,
      "metadata": {
        "id": "rY49X3-hT3vg"
      },
      "outputs": [],
      "source": [
        "import uuid\n",
        "thread_id = uuid.uuid4()"
      ]
    },
    {
      "cell_type": "code",
      "execution_count": 4,
      "metadata": {
        "colab": {
          "base_uri": "https://localhost:8080/"
        },
        "id": "e5G2otI2T3vg",
        "outputId": "0b0da244-8ff5-4778-e611-7f15f690cf1a"
      },
      "outputs": [
        {
          "output_type": "stream",
          "name": "stderr",
          "text": [
            "WARNING:langchain_community.utils.user_agent:USER_AGENT environment variable not set, consider setting it to identify your requests.\n",
            "Fetching pages: 100%|##########| 197/197 [00:39<00:00,  4.99it/s]\n"
          ]
        }
      ],
      "source": [
        "from langsmith import traceable\n",
        "from openai import OpenAI\n",
        "from typing import List\n",
        "import nest_asyncio\n",
        "from utils import get_vector_db_retriever\n",
        "\n",
        "openai_client = OpenAI()\n",
        "nest_asyncio.apply()\n",
        "retriever = get_vector_db_retriever()\n",
        "\n",
        "@traceable(run_type=\"chain\")\n",
        "def retrieve_documents(question: str):\n",
        "    return retriever.invoke(question)\n",
        "\n",
        "@traceable(run_type=\"chain\")\n",
        "def generate_response(question: str, documents):\n",
        "    formatted_docs = \"\\n\\n\".join(doc.page_content for doc in documents)\n",
        "    rag_system_prompt = \"\"\"You are an assistant for question-answering tasks.\n",
        "    Use the following pieces of retrieved context to answer the latest question in the conversation.\n",
        "    If you don't know the answer, just say that you don't know.\n",
        "    Use three sentences maximum and keep the answer concise.\n",
        "    \"\"\"\n",
        "    messages = [\n",
        "        {\n",
        "            \"role\": \"system\",\n",
        "            \"content\": rag_system_prompt\n",
        "        },\n",
        "        {\n",
        "            \"role\": \"user\",\n",
        "            \"content\": f\"Context: {formatted_docs} \\n\\n Question: {question}\"\n",
        "        }\n",
        "    ]\n",
        "    return call_openai(messages)\n",
        "\n",
        "@traceable(run_type=\"llm\")\n",
        "def call_openai(\n",
        "    messages: List[dict], model: str = \"gpt-4o-mini\", temperature: float = 0.0\n",
        ") -> str:\n",
        "    return openai_client.chat.completions.create(\n",
        "        model=model,\n",
        "        messages=messages,\n",
        "        temperature=temperature,\n",
        "    )\n",
        "\n",
        "@traceable(run_type=\"chain\")\n",
        "def langsmith_rag(question: str):\n",
        "    documents = retrieve_documents(question)\n",
        "    response = generate_response(question, documents)\n",
        "    return response.choices[0].message.content\n"
      ]
    },
    {
      "cell_type": "markdown",
      "metadata": {
        "id": "D9P1ilhLT3vg"
      },
      "source": [
        "### Now let's run our application twice with this thread_id"
      ]
    },
    {
      "cell_type": "code",
      "execution_count": 5,
      "metadata": {
        "colab": {
          "base_uri": "https://localhost:8080/"
        },
        "id": "ApvqN4kgT3vg",
        "outputId": "3479bf07-fa11-4b18-f74d-a3eda334e913"
      },
      "outputs": [
        {
          "output_type": "stream",
          "name": "stdout",
          "text": [
            "To add metadata to a trace in LangSmith, you need to include a dictionary of key-value pairs when creating the trace. This metadata can store additional information about the trace, such as the environment or user details. Ensure that the same metadata is also attached to the corresponding run for better tracking and analysis.\n"
          ]
        }
      ],
      "source": [
        "question = \"How do I add metadata to a Trace?\"\n",
        "ai_answer = langsmith_rag(question, langsmith_extra={\"metadata\": {\"thread_id\": thread_id}})\n",
        "print(ai_answer)"
      ]
    },
    {
      "cell_type": "code",
      "execution_count": 6,
      "metadata": {
        "colab": {
          "base_uri": "https://localhost:8080/"
        },
        "id": "viyQEsDwT3vh",
        "outputId": "f5b63345-4f6e-458e-b67b-02054d0ce3f5"
      },
      "outputs": [
        {
          "output_type": "stream",
          "name": "stdout",
          "text": [
            "You can add tags to a trace in LangSmith by sending arbitrary metadata and tags along with the trace. Tags are strings used to categorize or label the trace, while metadata is a dictionary of key-value pairs for additional information. For detailed instructions, refer to the documentation on adding metadata and tags to traces.\n"
          ]
        }
      ],
      "source": [
        "question = \"How can I add tags to a Trace?\"\n",
        "ai_answer = langsmith_rag(question, langsmith_extra={\"metadata\": {\"thread_id\": thread_id}})\n",
        "print(ai_answer)"
      ]
    },
    {
      "cell_type": "markdown",
      "metadata": {
        "id": "1SWElMk2T3vh"
      },
      "source": [
        "### Let's take a look in LangSmith!"
      ]
    }
  ],
  "metadata": {
    "kernelspec": {
      "display_name": "ls-academy",
      "language": "python",
      "name": "python3"
    },
    "language_info": {
      "codemirror_mode": {
        "name": "ipython",
        "version": 3
      },
      "file_extension": ".py",
      "mimetype": "text/x-python",
      "name": "python",
      "nbconvert_exporter": "python",
      "pygments_lexer": "ipython3",
      "version": "3.9.6"
    },
    "colab": {
      "provenance": []
    }
  },
  "nbformat": 4,
  "nbformat_minor": 0
}